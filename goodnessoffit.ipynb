{
  "nbformat": 4,
  "nbformat_minor": 0,
  "metadata": {
    "colab": {
      "name": "goodnessoffit.ipynb",
      "provenance": [],
      "collapsed_sections": [],
      "toc_visible": true
    },
    "kernelspec": {
      "name": "python3",
      "display_name": "Python 3"
    }
  },
  "cells": [
    {
      "cell_type": "markdown",
      "metadata": {
        "id": "rUDtArtEsC8N"
      },
      "source": [
        "# Goodness of fit test for the density of the invariant measure of a Markov chain\n",
        "\n",
        "We test our method on three examples:\n",
        "- an AR(1) process\n",
        "- a Markov chain with prescribed invariant measure built with an independent Metropolis Hastings algorithm\n",
        "- an ARCH process\n",
        "\n",
        "We consider tests of level $\\alpha$ (typically equal to $5\\%$). We compare the power of our test with the ones of the Kolmogorov-Smirnov test and the $\\chi^2$ test.\n",
        "\n"
      ]
    },
    {
      "cell_type": "code",
      "metadata": {
        "id": "Oo_igkWgxeNs"
      },
      "source": [
        "import numpy as np\n",
        "import scipy as sc\n",
        "from scipy import stats\n",
        "import math\n",
        "import matplotlib.pyplot as plt\n",
        "from scipy.integrate import quad"
      ],
      "execution_count": 1,
      "outputs": []
    },
    {
      "cell_type": "code",
      "metadata": {
        "id": "2NJXeJn5-gkd"
      },
      "source": [
        "def gaussian(x,mu,sigma):\n",
        "    return (2*np.pi*sigma**2)**(-1/2) * np.exp(-(x-mu)**2/(2 * sigma**2))\n",
        "\n",
        "def chi2_power(SAMPLES, SAMPLES_true, fexpected, alpha):\n",
        "    K = SAMPLES.shape[1]\n",
        "    #quantile = stats.chi2.ppf(1-alpha, df=K-1)\n",
        "    chi2list = []\n",
        "    for i in range(SAMPLES_true.shape[0]):\n",
        "        chi2list.append(stats.chisquare(f_obs=SAMPLES_true[i,:], f_exp=fexpected)[0])\n",
        "    chi2list = np.sort(chi2list)\n",
        "    quantile = chi2list[int(len(chi2list)*(1-alpha))]\n",
        "    power = 0\n",
        "    for i in range(SAMPLES.shape[0]):\n",
        "        if quantile < stats.chisquare(f_obs=SAMPLES[i,:], f_exp=fexpected)[0]:\n",
        "            power += 1\n",
        "    power /= SAMPLES.shape[0]\n",
        "    return power\n",
        "\n",
        "def chi2_test(CHAINS, CHAINS_true, true_density, alpha, xmin, xmax, K=40):\n",
        "    interval = np.linspace(xmin,xmax,K)\n",
        "    fexpected = np.zeros(K)\n",
        "    step = (xmax-xmin)/K\n",
        "    for k in range(K):\n",
        "        fexpected[k] = quad(true_density,xmin+k*step,xmin+(k+1)*step)[0]\n",
        "    fexpected /= np.sum(fexpected)\n",
        "    SAMPLES = np.zeros((CHAINS.shape[0],K))\n",
        "    SAMPLES_true = np.zeros((CHAINS_true.shape[0],K))\n",
        "    for i in range(CHAINS.shape[0]):\n",
        "        for j in range(CHAINS.shape[1]):\n",
        "            k = np.floor((CHAINS[i,j]-xmin)/step) \n",
        "            if k<0:\n",
        "                SAMPLES[i,0] += 1\n",
        "            elif k>=K:\n",
        "                SAMPLES[i,-1] += 1\n",
        "            else:\n",
        "                SAMPLES[i,int(k)] += 1\n",
        "    for i in range(CHAINS_true.shape[0]):  \n",
        "        for j in range(CHAINS_true.shape[1]): \n",
        "            k = np.floor((CHAINS_true[i,j]-xmin)/step)\n",
        "            if k<0:  \n",
        "                SAMPLES_true[i,0] += 1\n",
        "            elif k>=K:\n",
        "                SAMPLES_true[i,-1] += 1\n",
        "            else:\n",
        "                SAMPLES_true[i,int(k)] += 1\n",
        "    SAMPLES /= SAMPLES.shape[1]\n",
        "    SAMPLES_true /= SAMPLES_true.shape[1]\n",
        "    return chi2_power(SAMPLES, SAMPLES_true, fexpected, alpha) "
      ],
      "execution_count": 13,
      "outputs": []
    },
    {
      "cell_type": "code",
      "metadata": {
        "id": "HJZwq7553xTx"
      },
      "source": [
        "def KS_test(SAMPLES, SAMPLES_true, true_density, alpha, mode='norm', params=(0,1)):\n",
        "    K = SAMPLES.shape[1]\n",
        "    #quantile = stats.chi2.ppf(1-alpha, df=K-1)\n",
        "    kslist = []\n",
        "    for i in range(SAMPLES_true.shape[0]):\n",
        "        kslist.append(stats.kstest(SAMPLES_true[i,:], mode, args=params)[0])\n",
        "    kslist = np.sort(kslist)\n",
        "    quantile = kslist[int(len(kslist)*(1-alpha))]\n",
        "    power = 0\n",
        "    for i in range(SAMPLES.shape[0]):\n",
        "        if quantile < stats.kstest(SAMPLES[i,:], mode, args=params)[0]:\n",
        "            power += 1\n",
        "    power /= SAMPLES.shape[0]\n",
        "    return power"
      ],
      "execution_count": 3,
      "outputs": []
    },
    {
      "cell_type": "code",
      "metadata": {
        "id": "b-PuPxxWyuBI"
      },
      "source": [
        "def normL2(density, xmin, xmax):\n",
        "    def fint(a):\n",
        "        return (density(a)**2)\n",
        "    return (np.sqrt(quad(fint, xmin, xmax)[0]))\n",
        "\n",
        "def build_chain(ini_state,transition,n,numberchains=1):\n",
        "    if numberchains==1:\n",
        "        chain = np.zeros(n)\n",
        "        state = ini_state\n",
        "        for i in range(n):\n",
        "            chain[i] = state\n",
        "            state = transition(state)\n",
        "        return chain\n",
        "    else:\n",
        "        chains = np.zeros((numberchains,n))\n",
        "        for j in range(numberchains):\n",
        "            state = ini_state\n",
        "            for i in range(n):\n",
        "                chains[j,i] = state\n",
        "                state = transition(state)\n",
        "        return chains\n",
        "\n",
        "def trigo_basis(a, l):\n",
        "    if l==0:\n",
        "        temp = np.ones(len(a))\n",
        "    elif l%2==0:\n",
        "        temp = np.sqrt(2) * np.sin(2*np.pi*a*l/2) \n",
        "    else:\n",
        "        temp = np.sqrt(2) * np.cos(2*np.pi*a*(l+1)/2) \n",
        "    loc = np.where(a<0)\n",
        "    temp[loc]=0\n",
        "    loc = np.where(a>1)\n",
        "    temp[loc]=0\n",
        "    return temp\n",
        "\n",
        "def theta_trigo(chain, l):\n",
        "    theta = 0\n",
        "    vec = trigo_basis(chain, l)\n",
        "    VEC = np.dot(vec.reshape(-1,1),vec.reshape(1,-1))\n",
        "    theta += np.sum(VEC)-np.sum(np.diag(VEC))\n",
        "    n = len(chain)            \n",
        "    theta *= 1/(n*(n-1))\n",
        "    return theta\n",
        "\n",
        "def theta_hist(chain, l):\n",
        "    theta = 0\n",
        "    vec = np.array(list(map(lambda x:np.floor(x*l),chain)))\n",
        "    n = len(chain)\n",
        "    for i in range(n):\n",
        "        for j in range(n):\n",
        "            if vec[i] == vec[j] and i!=j:\n",
        "                theta += np.sqrt(l)\n",
        "    theta *= 1/(n*(n-1))\n",
        "    return theta\n",
        "\n",
        "def compute_hatTm(density, chain, xmin, xmax, list_models):\n",
        "    hatTm = 0\n",
        "    n = len(chain)\n",
        "    hatTms = [0]\n",
        "    for mode,dmin,dmax in list_models:\n",
        "        for D in range(dmin,dmax):\n",
        "            hatTms.append(0)\n",
        "            if mode=='trigo':\n",
        "                hatTm = theta_trigo(chain, D)\n",
        "                hatTms[-1] = hatTm + hatTms[-2]\n",
        "            else:\n",
        "                hatTm = theta_hist(chain, D)\n",
        "                hatTms[-1] = hatTm\n",
        "    hatTms = hatTms[1:]\n",
        "    hatTms = np.array(hatTms)\n",
        "    hatTms += normL2(density, xmin, xmax)**2\n",
        "    for x in chain:\n",
        "        hatTms -= (2/n) * density(x)\n",
        "    return hatTms\n",
        "\n",
        "def compute_hattm(density, CHAINS, xmin, xmax, grid_u, list_models):\n",
        "    nbchains = CHAINS.shape[0]\n",
        "    nbmodels = 0\n",
        "    for mode,dmin,dmax in list_models:\n",
        "        nbmodels += dmax-dmin\n",
        "    quantiles = np.zeros((len(grid_u),nbmodels))\n",
        "    HAT = np.zeros((nbmodels,nbchains))\n",
        "    for j in range(nbchains):\n",
        "        hatTms = compute_hatTm(density, CHAINS[j,:], xmin, xmax, list_models)\n",
        "        HAT[:,j] = hatTms.reshape(-1)\n",
        "    for i in range(nbmodels):\n",
        "        hatTms = np.sort(HAT[i,:])[::-1]\n",
        "        for k in range(len(grid_u)):\n",
        "            quantiles[k,i] = hatTms[int(grid_u[k]*len(hatTms))]\n",
        "    return quantiles\n",
        "\n",
        "def compute_ualpha(CHAINSproba, CHAINSquantiles, density, xmin, xmax, grid_u, alpha, list_models):\n",
        "    power = 0\n",
        "    nbmodels = len(list_models)\n",
        "    nbchains = CHAINSproba.shape[0]\n",
        "    u2probas = np.zeros(len(grid_u))\n",
        "    quantiles = compute_hattm(density, CHAINSquantiles, xmin, xmax, grid_u, list_models)\n",
        "    for j in range(nbchains):\n",
        "        count = 0\n",
        "        hatTms = compute_hatTm(density, CHAINSproba[j,:], xmin, xmax, list_models)\n",
        "        for k in range(len(grid_u)):\n",
        "            check = np.max(hatTms > quantiles[k,:])\n",
        "            if check>0:\n",
        "                u2probas[k] += 1\n",
        "    u2probas /= nbchains\n",
        "    bestindu = 0\n",
        "    while  u2probas[bestindu+1]-alpha <= 0:\n",
        "        bestindu += 1\n",
        "    return grid_u[bestindu], quantiles[bestindu,:]\n",
        "\n",
        "def compute_power(density, CHAINS, xmin, xmax, list_models, quantiles):\n",
        "    power = 0\n",
        "    nbchains = len(CHAINS)\n",
        "    for j in range(nbchains):\n",
        "        hatTms = compute_hatTm(density, CHAINS[j,:], xmin, xmax, list_models)\n",
        "        check = np.max(hatTms > quantiles)\n",
        "        if check > 0:\n",
        "            power += 1\n",
        "    power /= nbchains\n",
        "    return power"
      ],
      "execution_count": 4,
      "outputs": []
    },
    {
      "cell_type": "markdown",
      "metadata": {
        "id": "hvEcx2LdEVwm"
      },
      "source": [
        "# Example 1: AR(1)"
      ]
    },
    {
      "cell_type": "code",
      "metadata": {
        "id": "g9eaEFgoxkYQ"
      },
      "source": [
        "np.random.seed(2)\n",
        "theta = 0.8\n",
        "tau = 1\n",
        "# INVARIANT MEASURE OF THE CHAIN\n",
        "def H(x):\n",
        "    return theta*x\n",
        "def true_chain(prev_state):\n",
        "        \"\"\" Generation of the chain with an AR(1) process \"\"\"\n",
        "        z = np.random.normal(0,tau**2)\n",
        "        return H(prev_state) + z\n",
        "def true_density(x):\n",
        "    var = tau**2/(1-theta**2)\n",
        "    return (np.exp(-x**2/(2*var)) / np.sqrt(2*np.pi*var))\n",
        "\n",
        "# ALTERNATIVE\n",
        "mu = 0\n",
        "sigma = np.sqrt(1.2)\n",
        "def H1(x):\n",
        "    return (np.exp(-(x-mu)**2/(2*sigma**2)) / np.sqrt(2*np.pi*sigma**2))\n",
        "def chain_H1(prev_state):\n",
        "    return np.random.normal(mu,sigma**2)\n",
        "\n",
        "# ESTIMATION OF THE QUANTILES\n",
        "CHAINSproba = build_chain(0,chain_H1,100,numberchains=100)\n",
        "CHAINSquantiles = build_chain(0,chain_H1,100,numberchains=100)\n",
        "alpha = 0.05\n",
        "grid_u = np.linspace(0,2*alpha,100)\n",
        "list_models = [['hist',1,10]]\n",
        "xmin = -30\n",
        "xmax = 30\n",
        "ualpha, quantiles = compute_ualpha(CHAINSproba, CHAINSquantiles, H1, xmin, xmax, grid_u, alpha, list_models)"
      ],
      "execution_count": 5,
      "outputs": []
    },
    {
      "cell_type": "markdown",
      "metadata": {
        "id": "osOlWlIMto19"
      },
      "source": [
        "#### Power of our test"
      ]
    },
    {
      "cell_type": "code",
      "metadata": {
        "id": "zO_eeorr1xH3",
        "outputId": "47c6fd29-f1ab-41b1-ea0c-2381589da410",
        "colab": {
          "base_uri": "https://localhost:8080/",
          "height": 283
        }
      },
      "source": [
        "liste_n = [20*i for i in range(1,6)]\n",
        "powers = []\n",
        "for n in liste_n:\n",
        "    CHAINS = build_chain(0,true_chain,n,numberchains=100)\n",
        "    power = compute_power(H1, CHAINS, xmin, xmax, list_models, quantiles)\n",
        "    powers.append(power)\n",
        "plt.plot(liste_n,powers)\n",
        "plt.ylabel('Power of the test')\n",
        "plt.xlabel('$n$: length of the sequence')\n",
        "plt.show()"
      ],
      "execution_count": 10,
      "outputs": [
        {
          "output_type": "display_data",
          "data": {
            "image/png": "[encoded data removed]",
            "text/plain": [
              "<Figure size 432x288 with 1 Axes>"
            ]
          },
          "metadata": {
            "tags": [],
            "needs_background": "light"
          }
        }
      ]
    },
    {
      "cell_type": "markdown",
      "metadata": {
        "id": "OrJax61UtsLi"
      },
      "source": [
        "#### Comparison with the KS test and the $\\chi^2$ test"
      ]
    },
    {
      "cell_type": "code",
      "metadata": {
        "id": "UO0yls2KLWa-",
        "outputId": "57b16f3b-6603-4470-9a80-b54dcd17bfee",
        "colab": {
          "base_uri": "https://localhost:8080/"
        }
      },
      "source": [
        "chi2power = chi2_test(CHAINS, CHAINSquantiles, H1, alpha, -5,5, K=100)\n",
        "KSpower = KS_test(CHAINS, CHAINSquantiles, H1, alpha, mode='norm', params=(mu,sigma))\n",
        "print('CHI2 POWER',chi2power)\n",
        "print('KS POWER',KSpower)"
      ],
      "execution_count": 11,
      "outputs": [
        {
          "output_type": "stream",
          "text": [
            "CHI2 POWER 0.66\n",
            "KS POWER 0.69\n"
          ],
          "name": "stdout"
        }
      ]
    },
    {
      "cell_type": "markdown",
      "metadata": {
        "id": "-NSe6MUYtz7w"
      },
      "source": [
        "#### Visualization of the density of the invariant distribution of the chain and of an challenging alternative\n"
      ]
    },
    {
      "cell_type": "code",
      "metadata": {
        "id": "Ew8c2BLI5HIh",
        "outputId": "e6bd08ff-f3e2-4f2c-d9b6-87fff34fbfa7",
        "colab": {
          "base_uri": "https://localhost:8080/",
          "height": 265
        }
      },
      "source": [
        "CHAINS = build_chain(0, true_chain, 10000, numberchains=2)\n",
        "x = np.linspace(-4,4,100)\n",
        "y = list(map(true_density,x))\n",
        "mu = 0\n",
        "sigma = np.sqrt(2)\n",
        "def H1prop(x):\n",
        "    return gaussian(x,mu,sigma)\n",
        "def H1(x):\n",
        "    return H1prop(x)\n",
        "yb = list(map(H1,x))\n",
        "plt.plot(x,y, label='Invariant measure', linewidth=3)\n",
        "plt.plot(x,yb,label='$\\mathcal{N}(0,2)$',linestyle='--', linewidth=3)\n",
        "plt.legend(fontsize=13)\n",
        "plt.savefig('true_density_simu1.png',dpi=200)"
      ],
      "execution_count": 14,
      "outputs": [
        {
          "output_type": "display_data",
          "data": {
            "image/png": "[encoded data removed]",
            "text/plain": [
              "<Figure size 432x288 with 1 Axes>"
            ]
          },
          "metadata": {
            "tags": [],
            "needs_background": "light"
          }
        }
      ]
    },
    {
      "cell_type": "markdown",
      "metadata": {
        "id": "Ug_ikY-plPt7"
      },
      "source": [
        "# Example 2: Markov chain with prescribed distribution built using an independent Metropolis-Hastings algorithm"
      ]
    },
    {
      "cell_type": "code",
      "metadata": {
        "id": "3XK6XW3nlPN7"
      },
      "source": [
        "# INVARIANT DISTRIBUTION OF THE MARKOV CHAIN\n",
        "def density_prop(x):\n",
        "    if np.abs(x)>3:\n",
        "        return 0\n",
        "    else:\n",
        "        return np.exp(-x**2)*(3 + np.sin(5*x) + np.sin(2*x))\n",
        "norme = quad(density_prop, -3, 3)[0]\n",
        "def true_density(x):\n",
        "    return (density_prop(x)/norme)\n",
        "def proposal(x):\n",
        "    return (2*np.pi*3)**(-1/2) * np.exp(-x**2/(2 * 3))\n",
        "def true_chain(x):\n",
        "    \"\"\" Independent Metropolis Hastings algorithm \"\"\"\n",
        "    z = np.random.normal(0,3)\n",
        "    while np.abs(z)>3:\n",
        "        z = np.random.normal(0,3)\n",
        "    ratio = min(1,proposal(x)*true_density(z)/(proposal(z)*true_density(x)))\n",
        "    if np.random.rand()>ratio:\n",
        "        z = x\n",
        "    return z\n",
        "\n",
        "# ALTERNATIVE\n",
        "mu = 0\n",
        "sigma = 0.5\n",
        "def H1prop(x):\n",
        "    return gaussian(x,mu,sigma)\n",
        "normproposal = quad(H1prop, -3, 3)[0]\n",
        "def H1(x):\n",
        "    return H1prop(x)/normproposal\n",
        "def chain_H1(prev_state):\n",
        "    z = np.random.normal(mu,sigma)\n",
        "    while np.abs(z)>3:\n",
        "        z = np.random.normal(mu,sigma)\n",
        "    return z\n",
        "\n",
        "# ESTIMATION OF THE QUANTILES\n",
        "CHAINSproba = build_chain(0,chain_H1,100,numberchains=100)\n",
        "CHAINSquantiles = build_chain(0,chain_H1,100,numberchains=100)\n",
        "alpha = 0.05\n",
        "grid_u = np.linspace(0,0.1,100)\n",
        "list_models = [['hist',1,10]]\n",
        "xmin = -3\n",
        "xmax = 3\n",
        "ualpha, quantiles = compute_ualpha(CHAINSproba, CHAINSquantiles, H1, xmin, xmax, grid_u, alpha, list_models)"
      ],
      "execution_count": 19,
      "outputs": []
    },
    {
      "cell_type": "markdown",
      "metadata": {
        "id": "dcUMqJI8uig5"
      },
      "source": [
        "####Power of our test"
      ]
    },
    {
      "cell_type": "code",
      "metadata": {
        "id": "8tyorHBPsHoL",
        "outputId": "56676148-be19-469b-cb27-90da0cac4da5",
        "colab": {
          "base_uri": "https://localhost:8080/",
          "height": 283
        }
      },
      "source": [
        "liste_n = [20*i for i in range(1,6)]\n",
        "powers = []\n",
        "for n in liste_n:\n",
        "    CHAINS = build_chain(0, true_chain, n, numberchains=200)\n",
        "    power = compute_power(H1, CHAINS, xmin, xmax, list_models, quantiles)\n",
        "    powers.append(power)\n",
        "plt.plot(liste_n,powers)\n",
        "plt.ylabel('Power of the test')\n",
        "plt.xlabel('$n$: length of the sequence')\n",
        "plt.show()"
      ],
      "execution_count": 20,
      "outputs": [
        {
          "output_type": "display_data",
          "data": {
            "image/png": "[encoded data removed]",
            "text/plain": [
              "<Figure size 432x288 with 1 Axes>"
            ]
          },
          "metadata": {
            "tags": [],
            "needs_background": "light"
          }
        }
      ]
    },
    {
      "cell_type": "markdown",
      "metadata": {
        "id": "tU-X2DpwuZcM"
      },
      "source": [
        "#### Comparison with the KS test and the $\\chi^2$ test"
      ]
    },
    {
      "cell_type": "code",
      "metadata": {
        "id": "EOHrCOBlJIr4",
        "outputId": "54a52824-e0b0-4dc3-8e13-28a058073aaf",
        "colab": {
          "base_uri": "https://localhost:8080/"
        }
      },
      "source": [
        "chi2power = chi2_test(CHAINS, CHAINSquantiles, H1, alpha, -3,3, K=100)\n",
        "KSpower = KS_test(CHAINS, CHAINSquantiles, H1, alpha, mode='norm', params=(mu,sigma))\n",
        "print('CHI2 POWER',chi2power)\n",
        "print('KS POWER',KSpower)"
      ],
      "execution_count": 21,
      "outputs": [
        {
          "output_type": "stream",
          "text": [
            "CHI2 POWER 1.0\n",
            "KS POWER 0.965\n"
          ],
          "name": "stdout"
        }
      ]
    },
    {
      "cell_type": "markdown",
      "metadata": {
        "id": "OOh3-zKIt-Jy"
      },
      "source": [
        "#### Visualization of the density of the invariant distribution of the chain and of an challenging alternative"
      ]
    },
    {
      "cell_type": "code",
      "metadata": {
        "id": "ePRptKCelPTK",
        "outputId": "1f1cad72-7728-4bd5-93ac-c9b8118a7b4f",
        "colab": {
          "base_uri": "https://localhost:8080/",
          "height": 265
        }
      },
      "source": [
        "CHAINS = build_chain(0, true_chain, 10000, numberchains=2)\n",
        "x = np.linspace(-3,3,100)\n",
        "y = list(map(true_density,x))\n",
        "mu = 0.3\n",
        "sigma = 0.7\n",
        "def H1prop(x):\n",
        "    return gaussian(x,mu,sigma)\n",
        "normproposal = quad(H1prop, -3, 3)[0]\n",
        "def H1(x):\n",
        "    return H1prop(x)/normproposal\n",
        "yb = list(map(H1,x))\n",
        "plt.plot(x,y, label='Invariant measure', linewidth=3)\n",
        "plt.plot(x,yb,label='$\\mathcal{N}(0.3,0.7^2)$',linestyle='--',  linewidth=3)\n",
        "plt.legend(fontsize=13)\n",
        "plt.savefig('true_density_simu2.png',dpi=200)"
      ],
      "execution_count": null,
      "outputs": [
        {
          "output_type": "display_data",
          "data": {
            "image/png": "[encoded data removed]",
            "text/plain": [
              "<Figure size 432x288 with 1 Axes>"
            ]
          },
          "metadata": {
            "tags": [],
            "needs_background": "light"
          }
        }
      ]
    },
    {
      "cell_type": "markdown",
      "metadata": {
        "id": "5ZsMC0UIP1la"
      },
      "source": [
        "# Example 3: ARCH"
      ]
    },
    {
      "cell_type": "code",
      "metadata": {
        "id": "DGWGmo2iP1J9"
      },
      "source": [
        "# INVARIANT DISTRIBUTION\n",
        "theta = 0.8\n",
        "def true_density(x):\n",
        "    return 2 * (np.exp(-x**2/2) / np.sqrt(2*np.pi)) * sc.stats.norm.cdf(theta*x / ((1-theta**2)**(1/2)) )\n",
        "\n",
        "def true_chain(prev_state):\n",
        "        \"\"\" Markovian sampling on the sphere \"\"\"\n",
        "        z = np.random.normal(0,1)\n",
        "        return (theta * np.abs(prev_state) + (1-theta**2)**(1/2) * z)\n",
        "\n",
        "# ALTERNATIVE\n",
        "mu = 1\n",
        "sigma = 0.8\n",
        "def H1(x):\n",
        "    return (np.exp(-(x-mu)**2/(2*sigma**2)) / np.sqrt(2*np.pi*sigma**2))\n",
        "def chain_H1(prev_state):\n",
        "    return np.random.normal(mu,sigma**2)\n",
        "\n",
        "# ESTIMATION OF THE QUANTILES\n",
        "CHAINSproba = build_chain(0,chain_H1,100,numberchains=100)\n",
        "CHAINSquantiles = build_chain(0,chain_H1,100,numberchains=100)\n",
        "alpha = 0.05\n",
        "grid_u = np.linspace(0,alpha,100)\n",
        "list_models = [['hist',1,10]]\n",
        "xmin = -10\n",
        "xmax = 10\n",
        "ualpha, quantiles = compute_ualpha(CHAINSproba, CHAINSquantiles, H1, xmin, xmax, grid_u, alpha, list_models)"
      ],
      "execution_count": 22,
      "outputs": []
    },
    {
      "cell_type": "markdown",
      "metadata": {
        "id": "zMb-M5zVu3eG"
      },
      "source": [
        "#### Power of our test"
      ]
    },
    {
      "cell_type": "code",
      "metadata": {
        "id": "A_c5p4PQDWXM",
        "outputId": "79f46194-d765-4b6d-e45c-49b381f89ff2",
        "colab": {
          "base_uri": "https://localhost:8080/",
          "height": 283
        }
      },
      "source": [
        "liste_n = [20*i for i in range(1,7)]\n",
        "powers = []\n",
        "for n in liste_n:\n",
        "    CHAINS = build_chain(0,true_chain,n,numberchains=200)\n",
        "    power = compute_power(H1, CHAINS, xmin, xmax, list_models, quantiles)\n",
        "    powers.append(power)\n",
        "plt.plot(liste_n,powers)\n",
        "plt.ylabel('Power of the test')\n",
        "plt.xlabel('$n$: length of the sequence')\n",
        "plt.show()"
      ],
      "execution_count": 24,
      "outputs": [
        {
          "output_type": "display_data",
          "data": {
            "image/png": "[encoded data removed]",
            "text/plain": [
              "<Figure size 432x288 with 1 Axes>"
            ]
          },
          "metadata": {
            "tags": [],
            "needs_background": "light"
          }
        }
      ]
    },
    {
      "cell_type": "markdown",
      "metadata": {
        "id": "b4hn5eoWvEgh"
      },
      "source": [
        "#### Comparison with the KS test and the $\\chi^2$ test"
      ]
    },
    {
      "cell_type": "code",
      "metadata": {
        "id": "XfVyocFH70lm",
        "outputId": "a991888a-819f-48ec-a615-e1ebc262f1c5",
        "colab": {
          "base_uri": "https://localhost:8080/"
        }
      },
      "source": [
        "chi2power = chi2_test(CHAINS, CHAINSquantiles, H1, alpha, -20,20, K=100)\n",
        "KSpower = KS_test(CHAINS, CHAINSquantiles, H1, alpha, mode='norm', params=(mu,sigma))\n",
        "print('CHI2 POWER',chi2power)\n",
        "print('KS POWER',KSpower)"
      ],
      "execution_count": 25,
      "outputs": [
        {
          "output_type": "stream",
          "text": [
            "CHI2 POWER 0.97\n",
            "KS POWER 0.89\n"
          ],
          "name": "stdout"
        }
      ]
    },
    {
      "cell_type": "markdown",
      "metadata": {
        "id": "-_0hrKpKuE9S"
      },
      "source": [
        "#### Visualization of the density of the invariant distribution of the chain and of an challenging alternative"
      ]
    },
    {
      "cell_type": "code",
      "metadata": {
        "id": "SmpNCXQpE45q",
        "outputId": "729afb0d-b306-4184-87fa-2b17d8497810",
        "colab": {
          "base_uri": "https://localhost:8080/",
          "height": 265
        }
      },
      "source": [
        "CHAINS = build_chain(0, true_chain, 10000, numberchains=2)\n",
        "x = np.linspace(-4,4,100)\n",
        "y = list(map(true_density,x))\n",
        "mu = 0.5\n",
        "sigma = 1\n",
        "def H1prop(x):\n",
        "    return gaussian(x,mu,sigma)\n",
        "def H1(x):\n",
        "    return H1prop(x)/normproposal\n",
        "yb = list(map(H1,x))\n",
        "plt.plot(x,y, label='Invariant measure', linewidth=3)\n",
        "plt.plot(x,yb,label='$\\mathcal{N}(0.5,1)$',linestyle='--', linewidth=3)\n",
        "plt.legend(fontsize=13)\n",
        "plt.savefig('true_density_simu3.png',dpi=200)"
      ],
      "execution_count": null,
      "outputs": [
        {
          "output_type": "display_data",
          "data": {
            "image/png": "[encoded data removed]",
            "text/plain": [
              "<Figure size 432x288 with 1 Axes>"
            ]
          },
          "metadata": {
            "tags": [],
            "needs_background": "light"
          }
        }
      ]
    }
  ]
}